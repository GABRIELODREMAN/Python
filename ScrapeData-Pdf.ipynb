{
 "cells": [
  {
   "cell_type": "code",
   "execution_count": 1,
   "metadata": {},
   "outputs": [],
   "source": [
    "import tabula as tb\n",
    "import pandas as pd\n",
    "import numpy as np\n",
    "import io\n",
    "\n",
    "\n",
    "\n"
   ]
  },
  {
   "cell_type": "markdown",
   "metadata": {},
   "source": [
    "Use tabula to read the pdf file to be used\n",
    "file='https://population.un.org/wpp/Public"
   ]
  },
  {
   "cell_type": "code",
   "execution_count": 2,
   "metadata": {},
   "outputs": [],
   "source": [
    "file='https://population.un.org/wpp/Publications/Files/WPP2019_Highlights.pdf'\n",
    "data = tb.read_pdf(file, pages = '12')"
   ]
  },
  {
   "cell_type": "code",
   "execution_count": 3,
   "metadata": {},
   "outputs": [
    {
     "data": {
      "text/plain": [
       "list"
      ]
     },
     "execution_count": 3,
     "metadata": {},
     "output_type": "execute_result"
    }
   ],
   "source": [
    "type(data)\n",
    "# return list"
   ]
  },
  {
   "cell_type": "code",
   "execution_count": 4,
   "metadata": {},
   "outputs": [
    {
     "data": {
      "text/plain": [
       "[                          Unnamed: 0 Population (millions) Unnamed: 1  \\\n",
       " 0                             Region                  2019       2030   \n",
       " 1                              World                 7 713      8 548   \n",
       " 2                 Sub-Saharan Africa                 1 066      1 400   \n",
       " 3   Northern Africa and Western Asia                   517        609   \n",
       " 4          Central and Southern Asia                 1 991      2 227   \n",
       " 5     Eastern and South-Eastern Asia                 2 335      2 427   \n",
       " 6    Latin America and the Caribbean                   648        706   \n",
       " 7              Australia/New Zealand                    30         33   \n",
       " 8                           Oceania*                    12         15   \n",
       " 9        Europe and Northern America                 1 114      1 132   \n",
       " 10                               NaN                   NaN        NaN   \n",
       " 11         Least developed countries                 1 033      1 314   \n",
       " 12  Land-locked Developing Countries                   521        659   \n",
       " 13    Small Island Developing States                    71         78   \n",
       " \n",
       "    Unnamed: 2 Unnamed: 3  \n",
       " 0        2050       2100  \n",
       " 1       9 735     10 875  \n",
       " 2       2 118      3 775  \n",
       " 3         754        924  \n",
       " 4       2 496      2 334  \n",
       " 5       2 411      1 967  \n",
       " 6         762        680  \n",
       " 7          38         49  \n",
       " 8          19         26  \n",
       " 9       1 136      1 120  \n",
       " 10        NaN        NaN  \n",
       " 11      1 877      3 047  \n",
       " 12        926      1 406  \n",
       " 13         87         88  ]"
      ]
     },
     "execution_count": 4,
     "metadata": {},
     "output_type": "execute_result"
    }
   ],
   "source": [
    "data"
   ]
  },
  {
   "cell_type": "markdown",
   "metadata": {},
   "source": [
    "Ahora lo convertimos en Dataframe"
   ]
  },
  {
   "cell_type": "code",
   "execution_count": 5,
   "metadata": {},
   "outputs": [],
   "source": [
    "\n",
    "# no podemos usar df = pd.DataFrame(data) # ya que da error por los valores nulos\n",
    "df = pd.DataFrame(np.concatenate(data))\n",
    "\n",
    "\n"
   ]
  },
  {
   "cell_type": "code",
   "execution_count": 6,
   "metadata": {},
   "outputs": [
    {
     "data": {
      "text/plain": [
       "[                          Unnamed: 0 Population (millions) Unnamed: 1  \\\n",
       " 0                             Region                  2019       2030   \n",
       " 1                              World                 7 713      8 548   \n",
       " 2                 Sub-Saharan Africa                 1 066      1 400   \n",
       " 3   Northern Africa and Western Asia                   517        609   \n",
       " 4          Central and Southern Asia                 1 991      2 227   \n",
       " 5     Eastern and South-Eastern Asia                 2 335      2 427   \n",
       " 6    Latin America and the Caribbean                   648        706   \n",
       " 7              Australia/New Zealand                    30         33   \n",
       " 8                           Oceania*                    12         15   \n",
       " 9        Europe and Northern America                 1 114      1 132   \n",
       " 10                               NaN                   NaN        NaN   \n",
       " 11         Least developed countries                 1 033      1 314   \n",
       " 12  Land-locked Developing Countries                   521        659   \n",
       " 13    Small Island Developing States                    71         78   \n",
       " \n",
       "    Unnamed: 2 Unnamed: 3  \n",
       " 0        2050       2100  \n",
       " 1       9 735     10 875  \n",
       " 2       2 118      3 775  \n",
       " 3         754        924  \n",
       " 4       2 496      2 334  \n",
       " 5       2 411      1 967  \n",
       " 6         762        680  \n",
       " 7          38         49  \n",
       " 8          19         26  \n",
       " 9       1 136      1 120  \n",
       " 10        NaN        NaN  \n",
       " 11      1 877      3 047  \n",
       " 12        926      1 406  \n",
       " 13         87         88  ]"
      ]
     },
     "execution_count": 6,
     "metadata": {},
     "output_type": "execute_result"
    }
   ],
   "source": [
    "data"
   ]
  },
  {
   "cell_type": "code",
   "execution_count": 7,
   "metadata": {},
   "outputs": [],
   "source": [
    "# eliminamos los valores nulos\n",
    "\n",
    "df = df.dropna()\n"
   ]
  },
  {
   "cell_type": "code",
   "execution_count": null,
   "metadata": {},
   "outputs": [],
   "source": []
  },
  {
   "cell_type": "code",
   "execution_count": 8,
   "metadata": {},
   "outputs": [
    {
     "data": {
      "text/html": [
       "<div><div id=048c7682-7172-4a3b-bd15-977a5805611d style=\"display:none; background-color:#9D6CFF; color:white; width:200px; height:30px; padding-left:5px; border-radius:4px; flex-direction:row; justify-content:space-around; align-items:center;\" onmouseover=\"this.style.backgroundColor='#BA9BF8'\" onmouseout=\"this.style.backgroundColor='#9D6CFF'\" onclick=\"window.commands?.execute('create-mitosheet-from-dataframe-output');\">See Full Dataframe in Mito</div> <script> if (window.commands.hasCommand('create-mitosheet-from-dataframe-output')) document.getElementById('048c7682-7172-4a3b-bd15-977a5805611d').style.display = 'flex' </script> <table border=\"1\" class=\"dataframe\">\n",
       "  <thead>\n",
       "    <tr style=\"text-align: right;\">\n",
       "      <th></th>\n",
       "      <th>0</th>\n",
       "      <th>1</th>\n",
       "      <th>2</th>\n",
       "      <th>3</th>\n",
       "      <th>4</th>\n",
       "    </tr>\n",
       "  </thead>\n",
       "  <tbody>\n",
       "    <tr>\n",
       "      <th>0</th>\n",
       "      <td>Region</td>\n",
       "      <td>2019</td>\n",
       "      <td>2030</td>\n",
       "      <td>2050</td>\n",
       "      <td>2100</td>\n",
       "    </tr>\n",
       "    <tr>\n",
       "      <th>1</th>\n",
       "      <td>World</td>\n",
       "      <td>7 713</td>\n",
       "      <td>8 548</td>\n",
       "      <td>9 735</td>\n",
       "      <td>10 875</td>\n",
       "    </tr>\n",
       "    <tr>\n",
       "      <th>2</th>\n",
       "      <td>Sub-Saharan Africa</td>\n",
       "      <td>1 066</td>\n",
       "      <td>1 400</td>\n",
       "      <td>2 118</td>\n",
       "      <td>3 775</td>\n",
       "    </tr>\n",
       "    <tr>\n",
       "      <th>3</th>\n",
       "      <td>Northern Africa and Western Asia</td>\n",
       "      <td>517</td>\n",
       "      <td>609</td>\n",
       "      <td>754</td>\n",
       "      <td>924</td>\n",
       "    </tr>\n",
       "    <tr>\n",
       "      <th>4</th>\n",
       "      <td>Central and Southern Asia</td>\n",
       "      <td>1 991</td>\n",
       "      <td>2 227</td>\n",
       "      <td>2 496</td>\n",
       "      <td>2 334</td>\n",
       "    </tr>\n",
       "    <tr>\n",
       "      <th>...</th>\n",
       "      <td>...</td>\n",
       "      <td>...</td>\n",
       "      <td>...</td>\n",
       "      <td>...</td>\n",
       "      <td>...</td>\n",
       "    </tr>\n",
       "    <tr>\n",
       "      <th>8</th>\n",
       "      <td>Oceania*</td>\n",
       "      <td>12</td>\n",
       "      <td>15</td>\n",
       "      <td>19</td>\n",
       "      <td>26</td>\n",
       "    </tr>\n",
       "    <tr>\n",
       "      <th>9</th>\n",
       "      <td>Europe and Northern America</td>\n",
       "      <td>1 114</td>\n",
       "      <td>1 132</td>\n",
       "      <td>1 136</td>\n",
       "      <td>1 120</td>\n",
       "    </tr>\n",
       "    <tr>\n",
       "      <th>11</th>\n",
       "      <td>Least developed countries</td>\n",
       "      <td>1 033</td>\n",
       "      <td>1 314</td>\n",
       "      <td>1 877</td>\n",
       "      <td>3 047</td>\n",
       "    </tr>\n",
       "    <tr>\n",
       "      <th>12</th>\n",
       "      <td>Land-locked Developing Countries</td>\n",
       "      <td>521</td>\n",
       "      <td>659</td>\n",
       "      <td>926</td>\n",
       "      <td>1 406</td>\n",
       "    </tr>\n",
       "    <tr>\n",
       "      <th>13</th>\n",
       "      <td>Small Island Developing States</td>\n",
       "      <td>71</td>\n",
       "      <td>78</td>\n",
       "      <td>87</td>\n",
       "      <td>88</td>\n",
       "    </tr>\n",
       "  </tbody>\n",
       "</table></div>"
      ],
      "text/plain": [
       "                                   0      1      2      3       4\n",
       "0                             Region   2019   2030   2050    2100\n",
       "1                              World  7 713  8 548  9 735  10 875\n",
       "2                 Sub-Saharan Africa  1 066  1 400  2 118   3 775\n",
       "3   Northern Africa and Western Asia    517    609    754     924\n",
       "4          Central and Southern Asia  1 991  2 227  2 496   2 334\n",
       "5     Eastern and South-Eastern Asia  2 335  2 427  2 411   1 967\n",
       "6    Latin America and the Caribbean    648    706    762     680\n",
       "7              Australia/New Zealand     30     33     38      49\n",
       "8                           Oceania*     12     15     19      26\n",
       "9        Europe and Northern America  1 114  1 132  1 136   1 120\n",
       "11         Least developed countries  1 033  1 314  1 877   3 047\n",
       "12  Land-locked Developing Countries    521    659    926   1 406\n",
       "13    Small Island Developing States     71     78     87      88"
      ]
     },
     "execution_count": 8,
     "metadata": {},
     "output_type": "execute_result"
    }
   ],
   "source": [
    "df"
   ]
  },
  {
   "cell_type": "code",
   "execution_count": 9,
   "metadata": {},
   "outputs": [],
   "source": [
    "df.columns = df.iloc[0]\n",
    "df = df.drop(0)\n",
    "df = df.reset_index(drop=True)"
   ]
  },
  {
   "cell_type": "code",
   "execution_count": 10,
   "metadata": {},
   "outputs": [
    {
     "data": {
      "text/html": [
       "<div><div id=feb960f8-d707-4cbc-980b-171a9ef796cf style=\"display:none; background-color:#9D6CFF; color:white; width:200px; height:30px; padding-left:5px; border-radius:4px; flex-direction:row; justify-content:space-around; align-items:center;\" onmouseover=\"this.style.backgroundColor='#BA9BF8'\" onmouseout=\"this.style.backgroundColor='#9D6CFF'\" onclick=\"window.commands?.execute('create-mitosheet-from-dataframe-output');\">See Full Dataframe in Mito</div> <script> if (window.commands.hasCommand('create-mitosheet-from-dataframe-output')) document.getElementById('feb960f8-d707-4cbc-980b-171a9ef796cf').style.display = 'flex' </script> <table border=\"1\" class=\"dataframe\">\n",
       "  <thead>\n",
       "    <tr style=\"text-align: right;\">\n",
       "      <th></th>\n",
       "      <th>Region</th>\n",
       "      <th>2019</th>\n",
       "      <th>2030</th>\n",
       "      <th>2050</th>\n",
       "      <th>2100</th>\n",
       "    </tr>\n",
       "  </thead>\n",
       "  <tbody>\n",
       "    <tr>\n",
       "      <th>0</th>\n",
       "      <td>World</td>\n",
       "      <td>7 713</td>\n",
       "      <td>8 548</td>\n",
       "      <td>9 735</td>\n",
       "      <td>10 875</td>\n",
       "    </tr>\n",
       "    <tr>\n",
       "      <th>1</th>\n",
       "      <td>Sub-Saharan Africa</td>\n",
       "      <td>1 066</td>\n",
       "      <td>1 400</td>\n",
       "      <td>2 118</td>\n",
       "      <td>3 775</td>\n",
       "    </tr>\n",
       "    <tr>\n",
       "      <th>2</th>\n",
       "      <td>Northern Africa and Western Asia</td>\n",
       "      <td>517</td>\n",
       "      <td>609</td>\n",
       "      <td>754</td>\n",
       "      <td>924</td>\n",
       "    </tr>\n",
       "    <tr>\n",
       "      <th>3</th>\n",
       "      <td>Central and Southern Asia</td>\n",
       "      <td>1 991</td>\n",
       "      <td>2 227</td>\n",
       "      <td>2 496</td>\n",
       "      <td>2 334</td>\n",
       "    </tr>\n",
       "    <tr>\n",
       "      <th>4</th>\n",
       "      <td>Eastern and South-Eastern Asia</td>\n",
       "      <td>2 335</td>\n",
       "      <td>2 427</td>\n",
       "      <td>2 411</td>\n",
       "      <td>1 967</td>\n",
       "    </tr>\n",
       "    <tr>\n",
       "      <th>...</th>\n",
       "      <td>...</td>\n",
       "      <td>...</td>\n",
       "      <td>...</td>\n",
       "      <td>...</td>\n",
       "      <td>...</td>\n",
       "    </tr>\n",
       "    <tr>\n",
       "      <th>7</th>\n",
       "      <td>Oceania*</td>\n",
       "      <td>12</td>\n",
       "      <td>15</td>\n",
       "      <td>19</td>\n",
       "      <td>26</td>\n",
       "    </tr>\n",
       "    <tr>\n",
       "      <th>8</th>\n",
       "      <td>Europe and Northern America</td>\n",
       "      <td>1 114</td>\n",
       "      <td>1 132</td>\n",
       "      <td>1 136</td>\n",
       "      <td>1 120</td>\n",
       "    </tr>\n",
       "    <tr>\n",
       "      <th>9</th>\n",
       "      <td>Least developed countries</td>\n",
       "      <td>1 033</td>\n",
       "      <td>1 314</td>\n",
       "      <td>1 877</td>\n",
       "      <td>3 047</td>\n",
       "    </tr>\n",
       "    <tr>\n",
       "      <th>10</th>\n",
       "      <td>Land-locked Developing Countries</td>\n",
       "      <td>521</td>\n",
       "      <td>659</td>\n",
       "      <td>926</td>\n",
       "      <td>1 406</td>\n",
       "    </tr>\n",
       "    <tr>\n",
       "      <th>11</th>\n",
       "      <td>Small Island Developing States</td>\n",
       "      <td>71</td>\n",
       "      <td>78</td>\n",
       "      <td>87</td>\n",
       "      <td>88</td>\n",
       "    </tr>\n",
       "  </tbody>\n",
       "</table></div>"
      ],
      "text/plain": [
       "0                             Region   2019   2030   2050    2100\n",
       "0                              World  7 713  8 548  9 735  10 875\n",
       "1                 Sub-Saharan Africa  1 066  1 400  2 118   3 775\n",
       "2   Northern Africa and Western Asia    517    609    754     924\n",
       "3          Central and Southern Asia  1 991  2 227  2 496   2 334\n",
       "4     Eastern and South-Eastern Asia  2 335  2 427  2 411   1 967\n",
       "5    Latin America and the Caribbean    648    706    762     680\n",
       "6              Australia/New Zealand     30     33     38      49\n",
       "7                           Oceania*     12     15     19      26\n",
       "8        Europe and Northern America  1 114  1 132  1 136   1 120\n",
       "9          Least developed countries  1 033  1 314  1 877   3 047\n",
       "10  Land-locked Developing Countries    521    659    926   1 406\n",
       "11    Small Island Developing States     71     78     87      88"
      ]
     },
     "execution_count": 10,
     "metadata": {},
     "output_type": "execute_result"
    }
   ],
   "source": [
    "df"
   ]
  },
  {
   "cell_type": "code",
   "execution_count": 11,
   "metadata": {},
   "outputs": [
    {
     "data": {
      "application/vnd.jupyter.widget-view+json": {
       "model_id": "36aef687334948dab35f45d5df31b780",
       "version_major": 2,
       "version_minor": 0
      },
      "text/plain": [
       "MitoWidget(analysis_data_json='{\"analysisName\": \"UUID-fab3140d-3de7-4659-a286-70ebf9f0b70b\", \"code\": {\"imports…"
      ]
     },
     "metadata": {},
     "output_type": "display_data"
    }
   ],
   "source": [
    "import mitosheet\n",
    "mitosheet.sheet(df, view_df=True)"
   ]
  },
  {
   "cell_type": "code",
   "execution_count": null,
   "metadata": {},
   "outputs": [],
   "source": []
  }
 ],
 "metadata": {
  "kernelspec": {
   "display_name": "Python 3",
   "language": "python",
   "name": "python3"
  },
  "language_info": {
   "codemirror_mode": {
    "name": "ipython",
    "version": 3
   },
   "file_extension": ".py",
   "mimetype": "text/x-python",
   "name": "python",
   "nbconvert_exporter": "python",
   "pygments_lexer": "ipython3",
   "version": "3.7.6"
  }
 },
 "nbformat": 4,
 "nbformat_minor": 4
}
