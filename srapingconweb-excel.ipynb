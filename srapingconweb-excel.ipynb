{
 "cells": [
  {
   "cell_type": "markdown",
   "metadata": {},
   "source": [
    "Scrape Web con python para enviar los datos a Excel"
   ]
  },
  {
   "cell_type": "code",
   "execution_count": 2,
   "metadata": {},
   "outputs": [],
   "source": [
    "import pandas as pd\n",
    "import requests\n",
    "import xlsxwriter\n",
    "\n"
   ]
  },
  {
   "cell_type": "code",
   "execution_count": 4,
   "metadata": {},
   "outputs": [],
   "source": [
    "\n",
    "URL = \"https://datosmacro.expansion.com/otros/coronavirus/espana\"\n",
    "tabla = pd.read_html(requests.get(URL).text, flavor=\"bs4\", decimal=',', thousands='.')\n",
    "archivo=pd.ExcelWriter(r'D:/d/2-ESTUDIO/Python/Curso python Ejemplos/CORONA.xlsx')\n"
   ]
  },
  {
   "cell_type": "code",
   "execution_count": 6,
   "metadata": {},
   "outputs": [
    {
     "name": "stdout",
     "output_type": "stream",
     "text": [
      "         Fecha  Incremento Muertos  Muertos  Muertos / millón  \\\n",
      "0   12/01/2022                 122    90620           1914.78   \n",
      "1   11/01/2022                  25    90498           1912.20   \n",
      "2   10/01/2022                  72    90473           1911.67   \n",
      "3   09/01/2022                  73    90401           1910.15   \n",
      "4   08/01/2022                  82    90328           1908.61   \n",
      "..         ...                 ...      ...               ...   \n",
      "95  09/10/2021                  16    87281           1844.22   \n",
      "96  08/10/2021                  16    87265           1843.89   \n",
      "97  07/10/2021                  26    87249           1843.55   \n",
      "98  06/10/2021                  23    87223           1843.00   \n",
      "99  05/10/2021                  11    87200           1842.51   \n",
      "\n",
      "    Incremento Confirmados  Confirmados  Confirmados / 100.000 - 14 días  \n",
      "0                   163876      7930528                          3165.59  \n",
      "1                    75071      7766652                          3118.73  \n",
      "2                   126055      7691581                          3237.06  \n",
      "3                    73807      7565526                          3203.95  \n",
      "4                    76969      7491719                          3153.58  \n",
      "..                     ...          ...                              ...  \n",
      "95                     877      4981031                            48.28  \n",
      "96                    1832      4980154                            49.01  \n",
      "97                    1682      4978322                            50.31  \n",
      "98                    1784      4976640                            51.67  \n",
      "99                    1809      4974856                            53.22  \n",
      "\n",
      "[100 rows x 7 columns]\n"
     ]
    }
   ],
   "source": [
    "print(tabla[0])\n",
    "tabla[0].to_excel(archivo,'Hoja1', index=False)\n",
    "#Formateado\n",
    "workbook  = archivo.book\n",
    "worksheet = archivo.sheets['Hoja1']\n",
    "#Fecha\n",
    "Fecha = workbook.add_format({'num_format': 'dd/mm/aaaa'})\n",
    "worksheet.set_column('A:A', 10, Fecha)\n",
    "#Incremento Muertos\n",
    "IncrementoMuertos = workbook.add_format({'num_format': '#,##'})\n",
    "worksheet.set_column('B:B', 19, IncrementoMuertos)\n",
    "#Muertos\n",
    "Muertos = workbook.add_format({'num_format': '#,##'})\n",
    "worksheet.set_column('C:C', 8, Muertos)\n",
    "#Muertos / millón\n",
    "MuertosMillon = workbook.add_format({'num_format': '#,##0.00'})\n",
    "worksheet.set_column('D:D', 16, MuertosMillon)\n",
    "#Incremento Confirmados\n",
    "IncrementoConfirmados = workbook.add_format({'num_format': '#,##'})\n",
    "worksheet.set_column('E:E', 23, IncrementoConfirmados)\n",
    "#Confirmados\n",
    "Confirmados = workbook.add_format({'num_format': '#,##'})\n",
    "worksheet.set_column('F:F', 12, Confirmados)\n",
    "#Confirmados / 100.000 - 14 días\n",
    "Confirmados100000 = workbook.add_format({'num_format': '#,##0.00'})\n",
    "worksheet.set_column('G:G', 30, Confirmados100000)\n",
    "archivo.save()"
   ]
  },
  {
   "cell_type": "code",
   "execution_count": null,
   "metadata": {},
   "outputs": [],
   "source": []
  },
  {
   "cell_type": "code",
   "execution_count": null,
   "metadata": {},
   "outputs": [],
   "source": []
  },
  {
   "cell_type": "code",
   "execution_count": null,
   "metadata": {},
   "outputs": [],
   "source": []
  }
 ],
 "metadata": {
  "kernelspec": {
   "display_name": "Python 3",
   "language": "python",
   "name": "python3"
  },
  "language_info": {
   "codemirror_mode": {
    "name": "ipython",
    "version": 3
   },
   "file_extension": ".py",
   "mimetype": "text/x-python",
   "name": "python",
   "nbconvert_exporter": "python",
   "pygments_lexer": "ipython3",
   "version": "3.7.6"
  }
 },
 "nbformat": 4,
 "nbformat_minor": 4
}
